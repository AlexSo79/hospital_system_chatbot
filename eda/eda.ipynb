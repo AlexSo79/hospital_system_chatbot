{
 "cells": [
  {
   "cell_type": "code",
   "execution_count": 1,
   "metadata": {},
   "outputs": [
    {
     "data": {
      "text/plain": [
       "True"
      ]
     },
     "execution_count": 1,
     "metadata": {},
     "output_type": "execute_result"
    }
   ],
   "source": [
    "import os\n",
    "import polars as pl\n",
    "from langchain_community.graphs import Neo4jGraph\n",
    "from langchain_openai import ChatOpenAI\n",
    "from langchain.prompts import (\n",
    "    PromptTemplate,\n",
    "    SystemMessagePromptTemplate,\n",
    "    HumanMessagePromptTemplate,\n",
    "    ChatPromptTemplate,\n",
    ")\n",
    "from neo4j import GraphDatabase\n",
    "from langchain.agents import create_openai_functions_agent, Tool, AgentExecutor\n",
    "from langchain import hub\n",
    "from langchain_community.vectorstores.neo4j_vector import Neo4jVector\n",
    "from langchain_openai import OpenAIEmbeddings\n",
    "from langchain.chains import RetrievalQA\n",
    "from graph_qa.cypher import GraphCypherQAChain\n",
    "from dotenv import load_dotenv\n",
    "\n",
    "load_dotenv(\"../.env\")"
   ]
  },
  {
   "cell_type": "code",
   "execution_count": 24,
   "metadata": {},
   "outputs": [],
   "source": [
    "HOSPITAL_QA_MODEL = os.getenv(\"HOSPITAL_QA_MODEL\")\n",
    "HOSPITAL_CYPHER_MODEL = os.getenv(\"HOSPITAL_CYPHER_MODEL\")\n",
    "\n",
    "graph = Neo4jGraph(\n",
    "    url=os.getenv(\"NEO4J_URI\"),\n",
    "    username=os.getenv(\"NEO4J_USERNAME\"),\n",
    "    password=os.getenv(\"NEO4J_PASSWORD\"),\n",
    ")\n",
    "\n",
    "graph.refresh_schema()"
   ]
  },
  {
   "cell_type": "code",
   "execution_count": 31,
   "metadata": {},
   "outputs": [
    {
     "ename": "ValueError",
     "evalue": "Generated Cypher Statement is not valid\n{code: Neo.ClientError.Statement.SyntaxError} {message: Invalid input 'WHfERE': expected a graph pattern, 'FOREACH', ',', 'CALL', 'CREATE', 'LOAD CSV', 'DELETE', 'DETACH', 'FINISH', 'INSERT', 'MATCH', 'MERGE', 'NODETACH', 'OPTIONAL', 'REMOVE', 'RETURN', 'SET', 'UNION', 'UNWIND', 'USE', 'USING', 'WHERE', 'WITH' or <EOF> (line 1, column 20 (offset: 19))\n\"MATCH (q:Question) WHfERE q.question = \"who is the oldest patient and how old are they?\" RETURN q;\"\n                    ^}",
     "output_type": "error",
     "traceback": [
      "\u001b[0;31m---------------------------------------------------------------------------\u001b[0m",
      "\u001b[0;31mCypherSyntaxError\u001b[0m                         Traceback (most recent call last)",
      "File \u001b[0;32m~/Desktop/DataScience/envs/lc_rp_dev/lib/python3.11/site-packages/langchain_community/graphs/neo4j_graph.py:419\u001b[0m, in \u001b[0;36mNeo4jGraph.query\u001b[0;34m(self, query, params)\u001b[0m\n\u001b[1;32m    418\u001b[0m \u001b[38;5;28;01mtry\u001b[39;00m:\n\u001b[0;32m--> 419\u001b[0m     data \u001b[38;5;241m=\u001b[39m \u001b[43msession\u001b[49m\u001b[38;5;241;43m.\u001b[39;49m\u001b[43mrun\u001b[49m\u001b[43m(\u001b[49m\u001b[43mQuery\u001b[49m\u001b[43m(\u001b[49m\u001b[43mtext\u001b[49m\u001b[38;5;241;43m=\u001b[39;49m\u001b[43mquery\u001b[49m\u001b[43m,\u001b[49m\u001b[43m \u001b[49m\u001b[43mtimeout\u001b[49m\u001b[38;5;241;43m=\u001b[39;49m\u001b[38;5;28;43mself\u001b[39;49m\u001b[38;5;241;43m.\u001b[39;49m\u001b[43mtimeout\u001b[49m\u001b[43m)\u001b[49m\u001b[43m,\u001b[49m\u001b[43m \u001b[49m\u001b[43mparams\u001b[49m\u001b[43m)\u001b[49m\n\u001b[1;32m    420\u001b[0m     json_data \u001b[38;5;241m=\u001b[39m [r\u001b[38;5;241m.\u001b[39mdata() \u001b[38;5;28;01mfor\u001b[39;00m r \u001b[38;5;129;01min\u001b[39;00m data]\n",
      "File \u001b[0;32m~/Desktop/DataScience/envs/lc_rp_dev/lib/python3.11/site-packages/neo4j/_sync/work/session.py:312\u001b[0m, in \u001b[0;36mSession.run\u001b[0;34m(self, query, parameters, **kwargs)\u001b[0m\n\u001b[1;32m    311\u001b[0m parameters \u001b[38;5;241m=\u001b[39m \u001b[38;5;28mdict\u001b[39m(parameters \u001b[38;5;129;01mor\u001b[39;00m {}, \u001b[38;5;241m*\u001b[39m\u001b[38;5;241m*\u001b[39mkwargs)\n\u001b[0;32m--> 312\u001b[0m \u001b[38;5;28;43mself\u001b[39;49m\u001b[38;5;241;43m.\u001b[39;49m\u001b[43m_auto_result\u001b[49m\u001b[38;5;241;43m.\u001b[39;49m\u001b[43m_run\u001b[49m\u001b[43m(\u001b[49m\n\u001b[1;32m    313\u001b[0m \u001b[43m    \u001b[49m\u001b[43mquery\u001b[49m\u001b[43m,\u001b[49m\u001b[43m \u001b[49m\u001b[43mparameters\u001b[49m\u001b[43m,\u001b[49m\u001b[43m \u001b[49m\u001b[38;5;28;43mself\u001b[39;49m\u001b[38;5;241;43m.\u001b[39;49m\u001b[43m_config\u001b[49m\u001b[38;5;241;43m.\u001b[39;49m\u001b[43mdatabase\u001b[49m\u001b[43m,\u001b[49m\n\u001b[1;32m    314\u001b[0m \u001b[43m    \u001b[49m\u001b[38;5;28;43mself\u001b[39;49m\u001b[38;5;241;43m.\u001b[39;49m\u001b[43m_config\u001b[49m\u001b[38;5;241;43m.\u001b[39;49m\u001b[43mimpersonated_user\u001b[49m\u001b[43m,\u001b[49m\u001b[43m \u001b[49m\u001b[38;5;28;43mself\u001b[39;49m\u001b[38;5;241;43m.\u001b[39;49m\u001b[43m_config\u001b[49m\u001b[38;5;241;43m.\u001b[39;49m\u001b[43mdefault_access_mode\u001b[49m\u001b[43m,\u001b[49m\n\u001b[1;32m    315\u001b[0m \u001b[43m    \u001b[49m\u001b[43mbookmarks\u001b[49m\u001b[43m,\u001b[49m\u001b[43m \u001b[49m\u001b[38;5;28;43mself\u001b[39;49m\u001b[38;5;241;43m.\u001b[39;49m\u001b[43m_config\u001b[49m\u001b[38;5;241;43m.\u001b[39;49m\u001b[43mnotifications_min_severity\u001b[49m\u001b[43m,\u001b[49m\n\u001b[1;32m    316\u001b[0m \u001b[43m    \u001b[49m\u001b[38;5;28;43mself\u001b[39;49m\u001b[38;5;241;43m.\u001b[39;49m\u001b[43m_config\u001b[49m\u001b[38;5;241;43m.\u001b[39;49m\u001b[43mnotifications_disabled_categories\u001b[49m\u001b[43m,\u001b[49m\n\u001b[1;32m    317\u001b[0m \u001b[43m\u001b[49m\u001b[43m)\u001b[49m\n\u001b[1;32m    319\u001b[0m \u001b[38;5;28;01mreturn\u001b[39;00m \u001b[38;5;28mself\u001b[39m\u001b[38;5;241m.\u001b[39m_auto_result\n",
      "File \u001b[0;32m~/Desktop/DataScience/envs/lc_rp_dev/lib/python3.11/site-packages/neo4j/_sync/work/result.py:181\u001b[0m, in \u001b[0;36mResult._run\u001b[0;34m(self, query, parameters, db, imp_user, access_mode, bookmarks, notifications_min_severity, notifications_disabled_categories)\u001b[0m\n\u001b[1;32m    180\u001b[0m \u001b[38;5;28mself\u001b[39m\u001b[38;5;241m.\u001b[39m_connection\u001b[38;5;241m.\u001b[39msend_all()\n\u001b[0;32m--> 181\u001b[0m \u001b[38;5;28;43mself\u001b[39;49m\u001b[38;5;241;43m.\u001b[39;49m\u001b[43m_attach\u001b[49m\u001b[43m(\u001b[49m\u001b[43m)\u001b[49m\n",
      "File \u001b[0;32m~/Desktop/DataScience/envs/lc_rp_dev/lib/python3.11/site-packages/neo4j/_sync/work/result.py:292\u001b[0m, in \u001b[0;36mResult._attach\u001b[0;34m(self)\u001b[0m\n\u001b[1;32m    291\u001b[0m \u001b[38;5;28;01mwhile\u001b[39;00m \u001b[38;5;28mself\u001b[39m\u001b[38;5;241m.\u001b[39m_attached \u001b[38;5;129;01mis\u001b[39;00m \u001b[38;5;28;01mFalse\u001b[39;00m:\n\u001b[0;32m--> 292\u001b[0m     \u001b[38;5;28;43mself\u001b[39;49m\u001b[38;5;241;43m.\u001b[39;49m\u001b[43m_connection\u001b[49m\u001b[38;5;241;43m.\u001b[39;49m\u001b[43mfetch_message\u001b[49m\u001b[43m(\u001b[49m\u001b[43m)\u001b[49m\n",
      "File \u001b[0;32m~/Desktop/DataScience/envs/lc_rp_dev/lib/python3.11/site-packages/neo4j/_sync/io/_common.py:180\u001b[0m, in \u001b[0;36mConnectionErrorHandler.__getattr__.<locals>.outer.<locals>.inner\u001b[0;34m(*args, **kwargs)\u001b[0m\n\u001b[1;32m    179\u001b[0m \u001b[38;5;28;01mtry\u001b[39;00m:\n\u001b[0;32m--> 180\u001b[0m     \u001b[43mfunc\u001b[49m\u001b[43m(\u001b[49m\u001b[38;5;241;43m*\u001b[39;49m\u001b[43margs\u001b[49m\u001b[43m,\u001b[49m\u001b[43m \u001b[49m\u001b[38;5;241;43m*\u001b[39;49m\u001b[38;5;241;43m*\u001b[39;49m\u001b[43mkwargs\u001b[49m\u001b[43m)\u001b[49m\n\u001b[1;32m    181\u001b[0m \u001b[38;5;28;01mexcept\u001b[39;00m (Neo4jError, ServiceUnavailable, SessionExpired) \u001b[38;5;28;01mas\u001b[39;00m exc:\n",
      "File \u001b[0;32m~/Desktop/DataScience/envs/lc_rp_dev/lib/python3.11/site-packages/neo4j/_sync/io/_bolt.py:851\u001b[0m, in \u001b[0;36mBolt.fetch_message\u001b[0;34m(self)\u001b[0m\n\u001b[1;32m    848\u001b[0m tag, fields \u001b[38;5;241m=\u001b[39m \u001b[38;5;28mself\u001b[39m\u001b[38;5;241m.\u001b[39minbox\u001b[38;5;241m.\u001b[39mpop(\n\u001b[1;32m    849\u001b[0m     hydration_hooks\u001b[38;5;241m=\u001b[39m\u001b[38;5;28mself\u001b[39m\u001b[38;5;241m.\u001b[39mresponses[\u001b[38;5;241m0\u001b[39m]\u001b[38;5;241m.\u001b[39mhydration_hooks\n\u001b[1;32m    850\u001b[0m )\n\u001b[0;32m--> 851\u001b[0m res \u001b[38;5;241m=\u001b[39m \u001b[38;5;28;43mself\u001b[39;49m\u001b[38;5;241;43m.\u001b[39;49m\u001b[43m_process_message\u001b[49m\u001b[43m(\u001b[49m\u001b[43mtag\u001b[49m\u001b[43m,\u001b[49m\u001b[43m \u001b[49m\u001b[43mfields\u001b[49m\u001b[43m)\u001b[49m\n\u001b[1;32m    852\u001b[0m \u001b[38;5;28mself\u001b[39m\u001b[38;5;241m.\u001b[39midle_since \u001b[38;5;241m=\u001b[39m perf_counter()\n",
      "File \u001b[0;32m~/Desktop/DataScience/envs/lc_rp_dev/lib/python3.11/site-packages/neo4j/_sync/io/_bolt5.py:376\u001b[0m, in \u001b[0;36mBolt5x0._process_message\u001b[0;34m(self, tag, fields)\u001b[0m\n\u001b[1;32m    375\u001b[0m \u001b[38;5;28;01mtry\u001b[39;00m:\n\u001b[0;32m--> 376\u001b[0m     \u001b[43mresponse\u001b[49m\u001b[38;5;241;43m.\u001b[39;49m\u001b[43mon_failure\u001b[49m\u001b[43m(\u001b[49m\u001b[43msummary_metadata\u001b[49m\u001b[43m \u001b[49m\u001b[38;5;129;43;01mor\u001b[39;49;00m\u001b[43m \u001b[49m\u001b[43m{\u001b[49m\u001b[43m}\u001b[49m\u001b[43m)\u001b[49m\n\u001b[1;32m    377\u001b[0m \u001b[38;5;28;01mexcept\u001b[39;00m (ServiceUnavailable, DatabaseUnavailable):\n",
      "File \u001b[0;32m~/Desktop/DataScience/envs/lc_rp_dev/lib/python3.11/site-packages/neo4j/_sync/io/_common.py:247\u001b[0m, in \u001b[0;36mResponse.on_failure\u001b[0;34m(self, metadata)\u001b[0m\n\u001b[1;32m    246\u001b[0m Util\u001b[38;5;241m.\u001b[39mcallback(handler)\n\u001b[0;32m--> 247\u001b[0m \u001b[38;5;28;01mraise\u001b[39;00m Neo4jError\u001b[38;5;241m.\u001b[39mhydrate(\u001b[38;5;241m*\u001b[39m\u001b[38;5;241m*\u001b[39mmetadata)\n",
      "\u001b[0;31mCypherSyntaxError\u001b[0m: {code: Neo.ClientError.Statement.SyntaxError} {message: Invalid input 'WHfERE': expected a graph pattern, 'FOREACH', ',', 'CALL', 'CREATE', 'LOAD CSV', 'DELETE', 'DETACH', 'FINISH', 'INSERT', 'MATCH', 'MERGE', 'NODETACH', 'OPTIONAL', 'REMOVE', 'RETURN', 'SET', 'UNION', 'UNWIND', 'USE', 'USING', 'WHERE', 'WITH' or <EOF> (line 1, column 20 (offset: 19))\n\"MATCH (q:Question) WHfERE q.question = \"who is the oldest patient and how old are they?\" RETURN q;\"\n                    ^}",
      "\nDuring handling of the above exception, another exception occurred:\n",
      "\u001b[0;31mValueError\u001b[0m                                Traceback (most recent call last)",
      "Cell \u001b[0;32mIn[31], line 5\u001b[0m\n\u001b[1;32m      1\u001b[0m question \u001b[38;5;241m=\u001b[39m \u001b[38;5;124m\"\u001b[39m\u001b[38;5;124mWho is the oldest patient and how old are they?\u001b[39m\u001b[38;5;124m\"\u001b[39m\u001b[38;5;241m.\u001b[39mlower()\u001b[38;5;241m.\u001b[39mstrip()\n\u001b[1;32m      2\u001b[0m cypher_query \u001b[38;5;241m=\u001b[39m \u001b[38;5;124mf\u001b[39m\u001b[38;5;124m'\u001b[39m\u001b[38;5;124mMATCH (q:Question) WHfERE q.question = \u001b[39m\u001b[38;5;124m\"\u001b[39m\u001b[38;5;132;01m{\u001b[39;00mquestion\u001b[38;5;132;01m}\u001b[39;00m\u001b[38;5;124m\"\u001b[39m\u001b[38;5;124m RETURN q;\u001b[39m\u001b[38;5;124m'\u001b[39m\n\u001b[0;32m----> 5\u001b[0m \u001b[43mgraph\u001b[49m\u001b[38;5;241;43m.\u001b[39;49m\u001b[43mquery\u001b[49m\u001b[43m(\u001b[49m\u001b[43mcypher_query\u001b[49m\u001b[43m)\u001b[49m\n",
      "File \u001b[0;32m~/Desktop/DataScience/envs/lc_rp_dev/lib/python3.11/site-packages/langchain_community/graphs/neo4j_graph.py:425\u001b[0m, in \u001b[0;36mNeo4jGraph.query\u001b[0;34m(self, query, params)\u001b[0m\n\u001b[1;32m    423\u001b[0m     \u001b[38;5;28;01mreturn\u001b[39;00m json_data\n\u001b[1;32m    424\u001b[0m \u001b[38;5;28;01mexcept\u001b[39;00m CypherSyntaxError \u001b[38;5;28;01mas\u001b[39;00m e:\n\u001b[0;32m--> 425\u001b[0m     \u001b[38;5;28;01mraise\u001b[39;00m \u001b[38;5;167;01mValueError\u001b[39;00m(\u001b[38;5;124mf\u001b[39m\u001b[38;5;124m\"\u001b[39m\u001b[38;5;124mGenerated Cypher Statement is not valid\u001b[39m\u001b[38;5;130;01m\\n\u001b[39;00m\u001b[38;5;132;01m{\u001b[39;00me\u001b[38;5;132;01m}\u001b[39;00m\u001b[38;5;124m\"\u001b[39m)\n",
      "\u001b[0;31mValueError\u001b[0m: Generated Cypher Statement is not valid\n{code: Neo.ClientError.Statement.SyntaxError} {message: Invalid input 'WHfERE': expected a graph pattern, 'FOREACH', ',', 'CALL', 'CREATE', 'LOAD CSV', 'DELETE', 'DETACH', 'FINISH', 'INSERT', 'MATCH', 'MERGE', 'NODETACH', 'OPTIONAL', 'REMOVE', 'RETURN', 'SET', 'UNION', 'UNWIND', 'USE', 'USING', 'WHERE', 'WITH' or <EOF> (line 1, column 20 (offset: 19))\n\"MATCH (q:Question) WHfERE q.question = \"who is the oldest patient and how old are they?\" RETURN q;\"\n                    ^}"
     ]
    }
   ],
   "source": [
    "question = \"Who is the oldest patient and how old are they?\".lower().strip()\n",
    "cypher_query = f'MATCH (q:Question) WHfERE q.question = \"{question}\" RETURN q;'\n",
    "\n",
    "\n",
    "graph.query(cypher_query)"
   ]
  },
  {
   "cell_type": "code",
   "execution_count": 3,
   "metadata": {},
   "outputs": [
    {
     "data": {
      "text/plain": [
       "'gpt-3.5-turbo-0125'"
      ]
     },
     "execution_count": 3,
     "metadata": {},
     "output_type": "execute_result"
    }
   ],
   "source": [
    "HOSPITAL_CYPHER_MODEL"
   ]
  },
  {
   "cell_type": "markdown",
   "metadata": {},
   "source": [
    "#### Few shot Cypher RAG\n",
    "TODO:\n",
    "- Create CSV with example questions and answers [X]\n",
    "- Add to initial ETL [X]\n",
    "- Create Questions node with properties \"question\" and \"cypher\" [X]\n",
    "- Write function that creates Question nodes from a question and corresponding cypher query\n",
    "- Need to be able to embed questions on the fly\n",
    "- Streamlit app to add questions to the db\n",
    "- Update langchain version and refactor"
   ]
  },
  {
   "cell_type": "code",
   "execution_count": 9,
   "metadata": {},
   "outputs": [],
   "source": [
    "questions = [\n",
    "    \"Who is the oldest patient and how old are they?\",\n",
    "    \"Which physician has billed the least to Cigna\",\n",
    "    \"How many non-emergency patients in North Carolina have written reviews?\",\n",
    "]\n",
    "\n",
    "cypher_answers = [\n",
    "    \"\"\"\n",
    "    MATCH (p:Payer)<-[c:COVERED_BY]-(v:Visit)-[t:TREATS]-(phy:Physician)\n",
    "    WHERE p.name = 'Cigna'\n",
    "    RETURN phy.name AS physician_name, SUM(c.billing_amount) AS total_billed\n",
    "    ORDER BY total_billed\n",
    "    LIMIT 1\n",
    "    \"\"\",\n",
    "    \"\"\"\n",
    "    MATCH (p:Payer)<-[c:COVERED_BY]-(v:Visit)-[t:TREATS]-(phy:Physician)\n",
    "    WHERE p.name = 'Cigna'\n",
    "    RETURN phy.name AS physician_name, SUM(c.billing_amount) AS total_billed\n",
    "    ORDER BY total_billed\n",
    "    LIMIT 1\n",
    "    \"\"\",\n",
    "    \"\"\"\n",
    "    match (r:Review)<-[:WRITES]-(v:Visit)-[:AT]->(h:Hospital)\n",
    "    where h.state_name = 'NC' and v.admission_type <> 'Emergency'\n",
    "    return count(*)\n",
    "    \"\"\"\n",
    "]\n",
    "\n",
    "data = pl.DataFrame({\n",
    "    \"question\":questions,\n",
    "    \"cypher\":cypher_answers\n",
    "})\n",
    "\n",
    "\n",
    "\n",
    "'''# Which state had the largest percent increase in Cigna visits\n",
    "# from 2022 to 2023?\n",
    "MATCH (h:Hospital)<-[:AT]-(v:Visit)-[:COVERED_BY]->(p:Payer)\n",
    "WHERE p.name = 'Cigna' AND v.admission_date >= '2022-01-01' AND\n",
    "v.admission_date < '2024-01-01'\n",
    "WITH h.state_name AS state, COUNT(v) AS visit_count,\n",
    "     SUM(CASE WHEN v.admission_date >= '2022-01-01' AND\n",
    "     v.admission_date < '2023-01-01' THEN 1 ELSE 0 END) AS count_2022,\n",
    "     SUM(CASE WHEN v.admission_date >= '2023-01-01' AND\n",
    "     v.admission_date < '2024-01-01' THEN 1 ELSE 0 END) AS count_2023\n",
    "WITH state, visit_count, count_2022, count_2023,\n",
    "     (toFloat(count_2023) - toFloat(count_2022)) / toFloat(count_2022) * 100\n",
    "     AS percent_increase\n",
    "RETURN state, percent_increase\n",
    "ORDER BY percent_increase DESC\n",
    "LIMIT 1\n",
    "'''\n",
    "\n",
    "data.write_csv(\"../data/example_cypher.csv\")"
   ]
  },
  {
   "cell_type": "code",
   "execution_count": 10,
   "metadata": {},
   "outputs": [],
   "source": [
    "def add_document_node(uri, user, password, question, cypher, embedding):\n",
    "    driver = GraphDatabase.driver(uri, auth=(user, password))\n",
    "    with driver.session() as session:\n",
    "        session.write_transaction(create_document_node, question, cypher, embedding)\n",
    "    driver.close()\n",
    "\n",
    "def create_document_node(tx, question, cypher, embedding):\n",
    "    query = (\n",
    "        \"CREATE (d:Document {question: $question, cypher: $cypher, embedding: $embedding})\"\n",
    "    )\n",
    "    tx.run(query, question=question, cypher=cypher, embedding=embedding)"
   ]
  },
  {
   "cell_type": "code",
   "execution_count": 23,
   "metadata": {},
   "outputs": [
    {
     "data": {
      "text/plain": [
       "<langchain_community.vectorstores.neo4j_vector.Neo4jVector at 0x137e58390>"
      ]
     },
     "execution_count": 23,
     "metadata": {},
     "output_type": "execute_result"
    }
   ],
   "source": [
    "neo4j_question_vector_index = Neo4jVector.from_existing_graph(\n",
    "    embedding=OpenAIEmbeddings(),\n",
    "    url=os.getenv(\"NEO4J_URI\"),\n",
    "    username=os.getenv(\"NEO4J_USERNAME\"),\n",
    "    password=os.getenv(\"NEO4J_PASSWORD\"),\n",
    "    index_name=\"questions\",\n",
    "    node_label=\"Question\",\n",
    "    text_node_properties=[\n",
    "        \"question\",\n",
    "    ],\n",
    "    text_node_property=\"question\",\n",
    "    embedding_node_property=\"embedding\",\n",
    ")\n",
    "\n",
    "neo4j_question_vector_index = Neo4jVector.from_existing_index(\n",
    "    embedding=OpenAIEmbeddings(),\n",
    "    url=os.getenv(\"NEO4J_URI\"),\n",
    "    username=os.getenv(\"NEO4J_USERNAME\"),\n",
    "    password=os.getenv(\"NEO4J_PASSWORD\"),\n",
    "    index_name=\"questions\",\n",
    "    text_node_property=\"question\",\n",
    ")\n",
    "neo4j_question_vector_index"
   ]
  },
  {
   "cell_type": "code",
   "execution_count": 27,
   "metadata": {},
   "outputs": [
    {
     "data": {
      "text/plain": [
       "['403d3999e8fab4a8bf25cb8e73dd071d']"
      ]
     },
     "execution_count": 27,
     "metadata": {},
     "output_type": "execute_result"
    }
   ],
   "source": [
    "neo4j_question_vector_index.add_texts(\n",
    "    texts=[\n",
    "        \"Which physician has billed the most in Florida?\"\n",
    "    ],\n",
    "    metadatas=[\n",
    "        {\n",
    "            \"cypher\":\"\"\"\n",
    "            MATCH (p:Payer)<-[c:COVERED_BY]-(v:Visit)-[t:TREATS]-(phy:Physician)<-[:EMPLOYS]-(h:Hospital)\n",
    "            WHERE h.state_name = 'FL'\n",
    "            RETURN phy.name AS physician_name, SUM(c.billing_amount) AS total_billed\n",
    "            ORDER BY total_billed DESC\n",
    "            LIMIT 1\"\"\"\n",
    "        }\n",
    "    ]\n",
    ")"
   ]
  },
  {
   "cell_type": "code",
   "execution_count": 32,
   "metadata": {},
   "outputs": [
    {
     "name": "stderr",
     "output_type": "stream",
     "text": [
      "Failed to write data to connection ResolvedIPv4Address(('34.66.78.163', 7687)) (ResolvedIPv4Address(('34.66.78.163', 7687)))\n",
      "Failed to write data to connection IPv4Address(('d3a109b6.databases.neo4j.io', 7687)) (ResolvedIPv4Address(('34.66.78.163', 7687)))\n"
     ]
    },
    {
     "data": {
      "text/plain": [
       "[Document(metadata={'cypher': \"MATCH (p:Payer)<-[c:COVERED_BY]-(v:Visit)-[t:TREATS]-(phy:Physician)\\n    WHERE p.name = 'Cigna'\\n    RETURN phy.name AS physician_name, SUM(c.billing_amount) AS total_billed\\n    ORDER BY total_billed\\n    LIMIT 1\"}, page_content='which physician has billed the least to cigna?'),\n",
       " Document(metadata={'cypher': \"MATCH (p:Payer)<-[c:COVERED_BY]-(v:Visit)-[t:TREATS]-(phy:Physician)\\n    WHERE p.name = 'Cigna'\\n    RETURN phy.name AS physician_name, SUM(c.billing_amount) AS total_billed\\n    ORDER BY total_billed\\n    LIMIT 1\"}, page_content='who is the oldest patient and how old are they?'),\n",
       " Document(metadata={'cypher': \"match (r:Review)<-[:WRITES]-(v:Visit)-[:AT]->(h:Hospital)\\n    where h.state_name = 'NC' and v.admission_type <> 'Emergency'\\n    return count(*)\"}, page_content='how many non-emergency patients in north carolina have written reviews?')]"
      ]
     },
     "execution_count": 32,
     "metadata": {},
     "output_type": "execute_result"
    }
   ],
   "source": [
    "neo4j_question_vector_index.similarity_search(\"Which doctors have billed the most in Texas? Show me the top 5.\", k=4)"
   ]
  },
  {
   "cell_type": "markdown",
   "metadata": {},
   "source": [
    "#### Cypher chain"
   ]
  },
  {
   "cell_type": "code",
   "execution_count": 9,
   "metadata": {},
   "outputs": [],
   "source": [
    "cypher_example_retriever = neo4j_question_vector_index.as_retriever(search_kwargs={'k': 4})"
   ]
  },
  {
   "cell_type": "code",
   "execution_count": 15,
   "metadata": {},
   "outputs": [],
   "source": [
    "cypher_generation_template = \"\"\"\n",
    "Task:\n",
    "Generate Cypher query for a Neo4j graph database.\n",
    "\n",
    "Instructions:\n",
    "Use only the provided relationship types and properties in the schema.\n",
    "Do not use any other relationship types or properties that are not provided.\n",
    "\n",
    "Schema:\n",
    "{schema}\n",
    "\n",
    "Note:\n",
    "Do not include any explanations or apologies in your responses.\n",
    "Do not respond to any questions that might ask anything other than\n",
    "for you to construct a Cypher statement. Do not include any text except\n",
    "the generated Cypher statement. Make sure the direction of the relationship is\n",
    "correct in your queries. Make sure you alias both entities and relationships\n",
    "properly. Do not run any queries that would add to or delete from\n",
    "the database. Make sure to alias all statements that follow as with\n",
    "statement (e.g. WITH v as visit, c.billing_amount as billing_amount)\n",
    "If you need to divide numbers, make sure to\n",
    "filter the denominator to be non zero.\n",
    "\n",
    "Example queries for this schema:\n",
    "{example_queries}\n",
    "\n",
    "String category values:\n",
    "Test results are one of: 'Inconclusive', 'Normal', 'Abnormal'\n",
    "Visit statuses are one of: 'OPEN', 'DISCHARGED'\n",
    "Admission Types are one of: 'Elective', 'Emergency', 'Urgent'\n",
    "Payer names are one of: 'Cigna', 'Blue Cross', 'UnitedHealthcare', 'Medicare',\n",
    "'Aetna'\n",
    "\n",
    "A visit is considered open if its status is 'OPEN' and the discharge date is\n",
    "missing.\n",
    "\n",
    "Make sure to use IS NULL or IS NOT NULL when analyzing missing properties.\n",
    "Never return embedding properties in your queries. You must never include the\n",
    "statement \"GROUP BY\" in your query. Make sure to alias all statements that\n",
    "follow as with statement (e.g. WITH v as visit, c.billing_amount as\n",
    "billing_amount)\n",
    "If you need to divide numbers, make sure to filter the denominator to be non\n",
    "zero.\n",
    "\n",
    "Use state abbreviations instead of their full name. For example, you should\n",
    "change \"Texas\" to \"TX\", \"Colorado\" to \"CO\", \"North Carolina\" to \"NC\", and so on.\n",
    "\n",
    "The question is:\n",
    "{question}\n",
    "\"\"\"\n",
    "\n",
    "cypher_generation_prompt = PromptTemplate(\n",
    "    input_variables=[\"schema\", \"example_queries\", \"question\"], template=cypher_generation_template\n",
    ")\n",
    "\n",
    "qa_generation_template = \"\"\"You are an assistant that takes the results\n",
    "from a Neo4j Cypher query and forms a human-readable response. The\n",
    "query results section contains the results of a Cypher query that was\n",
    "generated based on a users natural language question. The provided\n",
    "information is authoritative, you must never doubt it or try to use\n",
    "your internal knowledge to correct it. Make the answer sound like a\n",
    "response to the question.\n",
    "\n",
    "Query Results:\n",
    "{context}\n",
    "\n",
    "Question:\n",
    "{question}\n",
    "\n",
    "If the provided information is empty, say you don't know the answer.\n",
    "Empty information looks like this: []\n",
    "\n",
    "If the information is not empty, you must provide an answer using the\n",
    "results. If the question involves a time duration, assume the query\n",
    "results are in units of days unless otherwise specified.\n",
    "\n",
    "When names are provided in the query results, such as hospital names,\n",
    "beware  of any names that have commas or other punctuation in them.\n",
    "For instance, 'Jones, Brown and Murray' is a single hospital name,\n",
    "not multiple hospitals. Make sure you return any list of names in\n",
    "a way that isn't ambiguous and allows someone to tell what the full\n",
    "names are.\n",
    "\n",
    "Never say you don't have the right information if there is data in\n",
    "the query results. Make sure to show all the relevant query results\n",
    "if you're asked.\n",
    "\n",
    "Helpful Answer:\n",
    "\"\"\"\n",
    "\n",
    "qa_generation_prompt = PromptTemplate(\n",
    "    input_variables=[\"context\", \"question\"], template=qa_generation_template\n",
    ")\n",
    "\n",
    "hospital_cypher_chain = GraphCypherQAChain.from_llm(\n",
    "    cypher_llm=ChatOpenAI(model=\"gpt-4o-mini\", temperature=0),\n",
    "    qa_llm=ChatOpenAI(model=\"gpt-4o-mini\", temperature=0),\n",
    "    cypher_example_retriever=cypher_example_retriever,\n",
    "    graph=graph,\n",
    "    verbose=True,\n",
    "    qa_prompt=qa_generation_prompt,\n",
    "    cypher_prompt=cypher_generation_prompt,\n",
    "    validate_cypher=True,\n",
    "    top_k=100,\n",
    ")"
   ]
  },
  {
   "cell_type": "code",
   "execution_count": 16,
   "metadata": {},
   "outputs": [
    {
     "name": "stdout",
     "output_type": "stream",
     "text": [
      "\n",
      "\n",
      "\u001b[1m> Entering new GraphCypherQAChain chain...\u001b[0m\n",
      "Generated Cypher:\n",
      "\u001b[32;1m\u001b[1;3m\n",
      "MATCH (p:Payer)<-[c:COVERED_BY]-(v:Visit)-[t:TREATS]-(phy:Physician)<-[:EMPLOYS]-(h:Hospital)\n",
      "WHERE h.state_name = 'TX'\n",
      "RETURN phy.name AS physician_name, SUM(c.billing_amount) AS total_billed\n",
      "ORDER BY total_billed DESC\n",
      "LIMIT 5\n",
      "\u001b[0m\n",
      "Full Context:\n",
      "\u001b[32;1m\u001b[1;3m[{'physician_name': 'Tracy Garza', 'total_billed': 2603139.78504043}, {'physician_name': 'Lauren Williams', 'total_billed': 2541214.8581720726}, {'physician_name': 'Sara Lopez', 'total_billed': 2498166.8090435355}, {'physician_name': 'Carla Miller', 'total_billed': 2454530.8802457894}, {'physician_name': 'Sean Best', 'total_billed': 2439745.2936023297}]\u001b[0m\n",
      "\n",
      "\u001b[1m> Finished chain.\u001b[0m\n"
     ]
    },
    {
     "data": {
      "text/plain": [
       "{'query': 'Which doctors have billed the most in Texas? Show me the top 5.',\n",
       " 'result': 'The top 5 doctors who have billed the most in Texas are:\\n\\n1. **Tracy Garza** - $2,603,139.79\\n2. **Lauren Williams** - $2,541,214.86\\n3. **Sara Lopez** - $2,498,166.81\\n4. **Carla Miller** - $2,454,530.88\\n5. **Sean Best** - $2,439,745.29\\n\\nThese physicians have significantly contributed to the total billed amounts in the state.'}"
      ]
     },
     "execution_count": 16,
     "metadata": {},
     "output_type": "execute_result"
    }
   ],
   "source": [
    "hospital_cypher_chain.invoke(\"Which doctors have billed the most in Texas? Show me the top 5.\")"
   ]
  },
  {
   "cell_type": "markdown",
   "metadata": {},
   "source": [
    "#### Review chain"
   ]
  },
  {
   "cell_type": "code",
   "execution_count": 19,
   "metadata": {},
   "outputs": [],
   "source": [
    "neo4j_vector_index = Neo4jVector.from_existing_graph(\n",
    "    embedding=OpenAIEmbeddings(),\n",
    "    url=os.getenv(\"NEO4J_URI\"),\n",
    "    username=os.getenv(\"NEO4J_USERNAME\"),\n",
    "    password=os.getenv(\"NEO4J_PASSWORD\"),\n",
    "    index_name=\"reviews\",\n",
    "    node_label=\"Review\",\n",
    "    text_node_properties=[\n",
    "        \"physician_name\",\n",
    "        \"patient_name\",\n",
    "        \"text\",\n",
    "        \"hospital_name\",\n",
    "    ],\n",
    "    embedding_node_property=\"embedding\",\n",
    ")\n",
    "\n",
    "review_template = \"\"\"Your job is to use patient\n",
    "reviews to answer questions about their experience at a hospital. Use\n",
    "the following context to answer questions. Be as detailed as possible, but\n",
    "don't make up any information that's not from the context. If you don't know\n",
    "an answer, say you don't know.\n",
    "{context}\n",
    "\"\"\"\n",
    "\n",
    "review_system_prompt = SystemMessagePromptTemplate(\n",
    "    prompt=PromptTemplate(\n",
    "        input_variables=[\"context\"], template=review_template\n",
    "    )\n",
    ")\n",
    "\n",
    "review_human_prompt = HumanMessagePromptTemplate(\n",
    "    prompt=PromptTemplate(input_variables=[\"question\"], template=\"{question}\")\n",
    ")\n",
    "messages = [review_system_prompt, review_human_prompt]\n",
    "\n",
    "review_prompt = ChatPromptTemplate(\n",
    "    input_variables=[\"context\", \"question\"], messages=messages\n",
    ")\n",
    "\n",
    "reviews_vector_chain = RetrievalQA.from_chain_type(\n",
    "    llm=ChatOpenAI(model=HOSPITAL_QA_MODEL, temperature=0),\n",
    "    chain_type=\"stuff\",\n",
    "    retriever=neo4j_vector_index.as_retriever(k=12),\n",
    ")\n",
    "reviews_vector_chain.combine_documents_chain.llm_chain.prompt = review_prompt\n"
   ]
  },
  {
   "cell_type": "markdown",
   "metadata": {},
   "source": [
    "#### Agent"
   ]
  },
  {
   "cell_type": "code",
   "execution_count": 11,
   "metadata": {},
   "outputs": [],
   "source": [
    "HOSPITAL_AGENT_MODEL = os.getenv(\"HOSPITAL_AGENT_MODEL\")\n",
    "\n",
    "hospital_agent_prompt = hub.pull(\"hwchase17/openai-functions-agent\")\n",
    "\n",
    "tools = [\n",
    "    Tool(\n",
    "        name=\"Experiences\",\n",
    "        func=reviews_vector_chain.invoke,\n",
    "        description=\"\"\"Useful when you need to answer questions\n",
    "        about patient experiences, feelings, or any other qualitative\n",
    "        question that could be answered about a patient using semantic\n",
    "        search. Not useful for answering objective questions that involve\n",
    "        counting, percentages, aggregations, or listing facts. Use the\n",
    "        entire prompt as input to the tool. For instance, if the prompt is\n",
    "        \"Are patients satisfied with their care?\", the input should be\n",
    "        \"Are patients satisfied with their care?\".\n",
    "        \"\"\",\n",
    "    ),\n",
    "    Tool(\n",
    "        name=\"Graph\",\n",
    "        func=hospital_cypher_chain.invoke,\n",
    "        description=\"\"\"Useful for answering questions about patients,\n",
    "        physicians, hospitals, insurance payers, patient review\n",
    "        statistics, and hospital visit details. Use the entire prompt as\n",
    "        input to the tool. For instance, if the prompt is \"How many visits\n",
    "        have there been?\", the input should be \"How many visits have\n",
    "        there been?\".\n",
    "        \"\"\",\n",
    "    ),\n",
    "]\n",
    "\n",
    "chat_model = ChatOpenAI(\n",
    "    model=HOSPITAL_AGENT_MODEL,\n",
    "    temperature=0,\n",
    ")\n",
    "\n",
    "hospital_rag_agent = create_openai_functions_agent(\n",
    "    llm=chat_model,\n",
    "    prompt=hospital_agent_prompt,\n",
    "    tools=tools,\n",
    ")\n",
    "\n",
    "hospital_rag_agent_executor = AgentExecutor(\n",
    "    agent=hospital_rag_agent,\n",
    "    tools=tools,\n",
    "    return_intermediate_steps=True,\n",
    "    verbose=True,\n",
    ")"
   ]
  },
  {
   "cell_type": "code",
   "execution_count": 17,
   "metadata": {},
   "outputs": [
    {
     "name": "stdout",
     "output_type": "stream",
     "text": [
      "\n",
      "\n",
      "\u001b[1m> Entering new AgentExecutor chain...\u001b[0m\n",
      "\u001b[32;1m\u001b[1;3m\n",
      "Invoking: `Graph` with `What is the average duration in days for closed emergency visits?`\n",
      "\n",
      "\n",
      "\u001b[0m\n",
      "\n",
      "\u001b[1m> Entering new GraphCypherQAChain chain...\u001b[0m\n",
      "Generated Cypher:\n",
      "\u001b[32;1m\u001b[1;3mMATCH (v:Visit)-[:AT]->(h:Hospital)\n",
      "WHERE v.status = 'DISCHARGED' AND v.admission_type = 'Emergency'\n",
      "WITH v, duration.between(date(v.admission_date), date(v.discharge_date)).days AS duration\n",
      "RETURN AVG(duration) AS average_duration_days\u001b[0m\n",
      "Full Context:\n",
      "\u001b[32;1m\u001b[1;3m[{'average_duration_days': 15.117444409646081}]\u001b[0m\n",
      "\n",
      "\u001b[1m> Finished chain.\u001b[0m\n",
      "\u001b[33;1m\u001b[1;3m{'query': 'What is the average duration in days for closed emergency visits?', 'result': 'The average duration in days for closed emergency visits is approximately 15.12 days.'}\u001b[0m\u001b[32;1m\u001b[1;3mThe average duration in days for closed emergency visits is approximately 15.12 days.\u001b[0m\n",
      "\n",
      "\u001b[1m> Finished chain.\u001b[0m\n"
     ]
    },
    {
     "data": {
      "text/plain": [
       "{'input': 'What is the average duration in days for closed emergency visits?',\n",
       " 'output': 'The average duration in days for closed emergency visits is approximately 15.12 days.',\n",
       " 'intermediate_steps': [(AgentActionMessageLog(tool='Graph', tool_input='What is the average duration in days for closed emergency visits?', log='\\nInvoking: `Graph` with `What is the average duration in days for closed emergency visits?`\\n\\n\\n', message_log=[AIMessage(content='', additional_kwargs={'function_call': {'arguments': '{\"__arg1\":\"What is the average duration in days for closed emergency visits?\"}', 'name': 'Graph'}})]),\n",
       "   {'query': 'What is the average duration in days for closed emergency visits?',\n",
       "    'result': 'The average duration in days for closed emergency visits is approximately 15.12 days.'})]}"
      ]
     },
     "execution_count": 17,
     "metadata": {},
     "output_type": "execute_result"
    }
   ],
   "source": [
    "hospital_rag_agent_executor.invoke({\"input\":\"What is the average duration in days for closed emergency visits?\"})"
   ]
  }
 ],
 "metadata": {
  "kernelspec": {
   "display_name": "lang_chain_real_python",
   "language": "python",
   "name": "python3"
  },
  "language_info": {
   "codemirror_mode": {
    "name": "ipython",
    "version": 3
   },
   "file_extension": ".py",
   "mimetype": "text/x-python",
   "name": "python",
   "nbconvert_exporter": "python",
   "pygments_lexer": "ipython3",
   "version": "3.11.6"
  }
 },
 "nbformat": 4,
 "nbformat_minor": 2
}
